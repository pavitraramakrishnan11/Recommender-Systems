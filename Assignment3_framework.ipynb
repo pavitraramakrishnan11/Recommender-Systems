{
 "cells": [
  {
   "cell_type": "markdown",
   "id": "f35b4f48-7fb8-4957-84f7-6e5750f0c38d",
   "metadata": {},
   "source": [
    "# Install and load necesary packages"
   ]
  },
  {
   "cell_type": "code",
   "execution_count": 2,
   "id": "b2b15118-de76-4a63-a3ec-a3f45616fbd2",
   "metadata": {},
   "outputs": [],
   "source": [
    "# Please don't change this cell\n",
    "\n",
    "import pandas as pd\n",
    "import numpy as np  \n",
    "\n",
    "import warnings\n",
    "warnings.filterwarnings(\"ignore\")\n"
   ]
  },
  {
   "cell_type": "markdown",
   "id": "12c496a5-df6d-4838-93e9-59c2ed4df088",
   "metadata": {},
   "source": [
    "## Load the dataset using pandas"
   ]
  },
  {
   "cell_type": "code",
   "execution_count": 4,
   "id": "fab3d257-297a-42e4-9ef0-6771fd30358a",
   "metadata": {},
   "outputs": [
    {
     "data": {
      "text/html": [
       "<div>\n",
       "<style scoped>\n",
       "    .dataframe tbody tr th:only-of-type {\n",
       "        vertical-align: middle;\n",
       "    }\n",
       "\n",
       "    .dataframe tbody tr th {\n",
       "        vertical-align: top;\n",
       "    }\n",
       "\n",
       "    .dataframe thead th {\n",
       "        text-align: right;\n",
       "    }\n",
       "</style>\n",
       "<table border=\"1\" class=\"dataframe\">\n",
       "  <thead>\n",
       "    <tr style=\"text-align: right;\">\n",
       "      <th></th>\n",
       "      <th>user_id</th>\n",
       "      <th>item_id</th>\n",
       "      <th>rating</th>\n",
       "      <th>timestamp</th>\n",
       "    </tr>\n",
       "  </thead>\n",
       "  <tbody>\n",
       "    <tr>\n",
       "      <th>0</th>\n",
       "      <td>196</td>\n",
       "      <td>242</td>\n",
       "      <td>3</td>\n",
       "      <td>881250949</td>\n",
       "    </tr>\n",
       "    <tr>\n",
       "      <th>1</th>\n",
       "      <td>186</td>\n",
       "      <td>302</td>\n",
       "      <td>3</td>\n",
       "      <td>891717742</td>\n",
       "    </tr>\n",
       "    <tr>\n",
       "      <th>2</th>\n",
       "      <td>22</td>\n",
       "      <td>377</td>\n",
       "      <td>1</td>\n",
       "      <td>878887116</td>\n",
       "    </tr>\n",
       "    <tr>\n",
       "      <th>3</th>\n",
       "      <td>244</td>\n",
       "      <td>51</td>\n",
       "      <td>2</td>\n",
       "      <td>880606923</td>\n",
       "    </tr>\n",
       "    <tr>\n",
       "      <th>4</th>\n",
       "      <td>166</td>\n",
       "      <td>346</td>\n",
       "      <td>1</td>\n",
       "      <td>886397596</td>\n",
       "    </tr>\n",
       "  </tbody>\n",
       "</table>\n",
       "</div>"
      ],
      "text/plain": [
       "   user_id  item_id  rating  timestamp\n",
       "0      196      242       3  881250949\n",
       "1      186      302       3  891717742\n",
       "2       22      377       1  878887116\n",
       "3      244       51       2  880606923\n",
       "4      166      346       1  886397596"
      ]
     },
     "execution_count": 4,
     "metadata": {},
     "output_type": "execute_result"
    }
   ],
   "source": [
    "# Please don't change this cell\n",
    "df = pd.read_csv('ml-100k/u.data', names=['user_id', 'item_id', 'rating', 'timestamp'], sep='\\t')\n",
    "\n",
    "df.head()"
   ]
  },
  {
   "cell_type": "markdown",
   "id": "8443bc64-6256-4f39-a892-19fd6fd105a0",
   "metadata": {},
   "source": [
    "# Split dataset\n"
   ]
  },
  {
   "cell_type": "markdown",
   "id": "639b70f3-da86-4492-ad1d-054842f1123d",
   "metadata": {},
   "source": [
    "## Randomly select one rating from each user as test set"
   ]
  },
  {
   "cell_type": "code",
   "execution_count": 7,
   "id": "52cfa457-e512-4218-9554-ff98c29edf9c",
   "metadata": {},
   "outputs": [
    {
     "name": "stdout",
     "output_type": "stream",
     "text": [
      "943 users\n",
      "1682 items\n",
      "Construct the rating matrix based on train_df:\n",
      "[[0. 3. 4. ... 0. 0. 0.]\n",
      " [4. 0. 0. ... 0. 0. 0.]\n",
      " [0. 0. 0. ... 0. 0. 0.]\n",
      " ...\n",
      " [5. 0. 0. ... 0. 0. 0.]\n",
      " [0. 0. 0. ... 0. 0. 0.]\n",
      " [0. 5. 0. ... 0. 0. 0.]]\n",
      "Construct the rating matrix based on test_df:\n",
      "[[5. 0. 0. ... 0. 0. 0.]\n",
      " [0. 0. 0. ... 0. 0. 0.]\n",
      " [0. 0. 0. ... 0. 0. 0.]\n",
      " ...\n",
      " [0. 0. 0. ... 0. 0. 0.]\n",
      " [0. 0. 0. ... 0. 0. 0.]\n",
      " [0. 0. 0. ... 0. 0. 0.]]\n",
      "Testsize = 17678\n"
     ]
    }
   ],
   "source": [
    "# please do not change this cell\n",
    "\n",
    "from sklearn.model_selection import train_test_split\n",
    "\n",
    "n_users = df.user_id.unique().shape[0]\n",
    "n_items = df.item_id.unique().shape[0]\n",
    "print(str(n_users) + ' users')\n",
    "print(str(n_items) + ' items')\n",
    "\n",
    "train_df, test_df = train_test_split(df, test_size=0.2, random_state = 10)\n",
    "train_df, test_df\n",
    "\n",
    "# Training Dataset\n",
    "train_ds = np.zeros((n_users, n_items))\n",
    "item_popularity = np.zeros(n_items)\n",
    "for row in train_df.itertuples():\n",
    "    train_ds[row[1]-1, row[2]-1] = row[3]\n",
    "    item_popularity[row[2]-1] =  item_popularity[row[2]-1] + 1\n",
    "#train_ds = pd.DataFrame(train_ds)\n",
    "\n",
    "# Testing Dataset\n",
    "testsize = 0\n",
    "test_ds = np.zeros((n_users, n_items))\n",
    "for row in test_df.itertuples():\n",
    "    if item_popularity[row[2]-1] > 30:\n",
    "        test_ds[row[1]-1, row[2]-1] = row[3]\n",
    "        testsize = testsize + 1\n",
    "#test_ds = pd.DataFrame(test_ds)\n",
    "\n",
    "print(\"Construct the rating matrix based on train_df:\")\n",
    "print(train_ds)\n",
    "\n",
    "print(\"Construct the rating matrix based on test_df:\")\n",
    "print(test_ds)\n",
    "\n",
    "print(\"Testsize = \" + str(testsize))"
   ]
  },
  {
   "cell_type": "markdown",
   "id": "2327db3f-c8c4-4d5d-a1d0-a7e762118a49",
   "metadata": {},
   "source": [
    "# MAE and RMSE Utils"
   ]
  },
  {
   "cell_type": "code",
   "execution_count": 9,
   "id": "0ac15b08-ee5a-4d8a-a5a9-fed6917b9104",
   "metadata": {},
   "outputs": [],
   "source": [
    "# Please don't change this cell\n",
    "# you can use this devaluate Utils here, and you can also implement your own MAE and RMSE calculation. \n",
    "\n",
    "EPSILON = 1e-9\n",
    "\n",
    "def evaluate(test_ds, predicted_ds):\n",
    "    '''\n",
    "    Function for evaluating on MAE and RMSE\n",
    "    '''\n",
    "    # MAE\n",
    "    mask_test_ds = test_ds > 0\n",
    "    MAE = np.sum(np.abs(test_ds[mask_test_ds] - predicted_ds[mask_test_ds])) / np.sum(mask_test_ds.astype(np.float32))\n",
    "\n",
    "    # RMSE\n",
    "    RMSE = np.sqrt(np.sum(np.square(test_ds[mask_test_ds] - predicted_ds[mask_test_ds])) / np.sum(mask_test_ds.astype(np.float32)))\n",
    "\n",
    "    return MAE, RMSE"
   ]
  },
  {
   "cell_type": "markdown",
   "id": "7f2a51a1-19ab-4a11-b3d3-e046b0051e1a",
   "metadata": {},
   "source": [
    "# Your Solution for Method 1"
   ]
  },
  {
   "cell_type": "code",
   "execution_count": 11,
   "id": "61330a1d-7092-4b12-86b0-2d7a60d6f4e3",
   "metadata": {},
   "outputs": [],
   "source": [
    "# Write your code here for Method 1\n",
    "# You are required to implement the required solution 1 here. \n",
    "# Then, evaluate your implementation by predicting the ratings in the test set (test_ds).\n",
    "# Finally, save the corresponding MAE and RMSE of your implementation \n",
    "# into the following defined corresponding variable. \n",
    "\n",
    "MAE_solution1 = 0 # 0 is an intial value, you need to update this with the actual perofrmance of your implementation.\n",
    "RMSE_solution1 = 0 # 0 is an intial value, you need to update this with the actual perofrmance of your implementation.\n",
    "\n",
    "# Creating two user-item matrices with initial values zero \n",
    "ratings = np.zeros((n_users, n_items)) # To store the actual rating provided by the user\n",
    "ratings_binary = np.zeros((n_users, n_items)) # Binary matrix to record if the item has been rated or not\n",
    "\n",
    "# The indices have been subtracted from 1 for zero based indexing \n",
    "for row in train_df.itertuples(): # Row representes each item in the row \n",
    "    # Row 1 is the user_id, Row 2 is the item_id and Row 3 is the rating given by the user to that item  \n",
    "    ratings[row[1]-1,row[2]-1] = row[3] # Storing the rating given by the user to ratings \n",
    "    ratings_binary[row[1]-1,row[2]-1] = 1 # Storing the value 1 against each rating that the user has provided\n",
    "\n",
    "# Computing Average Rating\n",
    "user_ratings = ratings.sum(axis = 1) # Taking sum of all rows \n",
    "number_of_ratings = ratings_binary.sum(axis = 1) # Count of the users who have rated \n",
    "Average_Rating = user_ratings/number_of_ratings # Computing average rating \n",
    "\n",
    "# Replicating user's average rating across all items for prediction  \n",
    "user_avg_predictions = np.tile(Average_Rating.reshape(-1, 1), ratings.shape[1])\n",
    "\n",
    "# Evaluation\n",
    "MAE_solution1, RMSE_solution1 = evaluate(test_ds, user_avg_predictions)"
   ]
  },
  {
   "cell_type": "code",
   "execution_count": 12,
   "id": "cec8efe6-8214-46de-acce-6b5bf24c245a",
   "metadata": {},
   "outputs": [
    {
     "name": "stdout",
     "output_type": "stream",
     "text": [
      "===================== The MAE and RMSE of Your Implementation =====================\n",
      "MAE: 0.8258905090105331, RMSE: 1.031143070595138\n"
     ]
    }
   ],
   "source": [
    "# Please don't change this cell\n",
    "\n",
    "print(\"===================== The MAE and RMSE of Your Implementation =====================\")\n",
    "print(\"MAE: {}, RMSE: {}\" .format(MAE_solution1, RMSE_solution1))"
   ]
  },
  {
   "cell_type": "markdown",
   "id": "ed1b9cc5-6fa4-48c6-8a44-edd6d9a8729d",
   "metadata": {},
   "source": [
    "# Your Solution for Method 2"
   ]
  },
  {
   "cell_type": "code",
   "execution_count": 14,
   "id": "be5ec1b4-5825-4c05-a950-04a4ae7300bd",
   "metadata": {},
   "outputs": [],
   "source": [
    "# Write your code here for Method 2\n",
    "# You are required to implement the required solution 1 here. \n",
    "# Then, evaluate your implementation by predicting the ratings in the test set (test_ds).\n",
    "# Finally, save the corresponding MAE and RMSE of your implementation \n",
    "# into the following defined corresponding variable. \n",
    "\n",
    "MAE_solution2 = 0 # 0 is an intial value, you need to update this with the actual perofrmance of your implementation.\n",
    "RMSE_solution2 = 0 # 0 is an intial value, you need to update this with the actual perofrmance of your implementation.\n",
    "\n",
    "# Similar to method 1, creating two user-item matrices \n",
    "ratings = np.zeros((n_users, n_items))        \n",
    "ratings_binary = np.zeros((n_users, n_items)) \n",
    "\n",
    "# The indices have been subtracted from 1 for zero based indexing \n",
    "for row in train_df.itertuples():\n",
    "    ratings[row[1]-1, row[2]-1] = row[3]\n",
    "    ratings_binary[row[1]-1, row[2]-1] = 1\n",
    "\n",
    "item_ratings = ratings.sum(axis = 0)  # The axis is defined as 0, to count the items which has been rated, not the user              \n",
    "item_rating_count = ratings_binary.sum(axis = 0) # Count of how many users rated each item     \n",
    "Average_Rating = item_ratings / item_rating_count  # Calculating average rating across each item\n",
    "\n",
    "# Computing the predictions \n",
    "item_predictions = np.tile(Average_Rating, (ratings.shape[0], 1))\n",
    "\n",
    "# Evaluation\n",
    "MAE_solution2, RMSE_solution2 = evaluate(test_ds, item_predictions)\n"
   ]
  },
  {
   "cell_type": "code",
   "execution_count": 15,
   "id": "95dc2f56-5802-420c-aa87-3ed5d89ea030",
   "metadata": {},
   "outputs": [
    {
     "name": "stdout",
     "output_type": "stream",
     "text": [
      "===================== The MAE and RMSE of Your Implementation =====================\n",
      "MAE: 0.7961203950990416, RMSE: 1.0013142101585724\n"
     ]
    }
   ],
   "source": [
    "# Please don't change this cell\n",
    "\n",
    "print(\"===================== The MAE and RMSE of Your Implementation =====================\")\n",
    "print(\"MAE: {}, RMSE: {}\" .format(MAE_solution2, RMSE_solution2))"
   ]
  },
  {
   "cell_type": "markdown",
   "id": "c9281c64-c5e2-451b-a69a-2d9965271093",
   "metadata": {},
   "source": [
    "# Your Solution for Method 3"
   ]
  },
  {
   "cell_type": "code",
   "execution_count": 17,
   "id": "2e1209c4-3c44-4e88-814c-0c8afaac0cad",
   "metadata": {},
   "outputs": [
    {
     "name": "stdout",
     "output_type": "stream",
     "text": [
      "k: 9, MAE: 0.8119743880556275, RMSE: 1.0244540315614619\n",
      "k: 15, MAE: 0.7970112239221583, RMSE: 1.0053207435568996\n",
      "k: 25, MAE: 0.7887518967353208, RMSE: 0.9972146427260026\n",
      "k: 40, MAE: 0.8319102617478967, RMSE: 1.07617568041587\n",
      "k: 45, MAE: 0.8518197283440843, RMSE: 1.10808176886397\n",
      "k: 50, MAE: 0.8705275549473561, RMSE: 1.1391539623658822\n"
     ]
    }
   ],
   "source": [
    "# Write your code here for Method 3\n",
    "# You are required to implement the required solution 1 here. \n",
    "# Then, evaluate your implementation by predicting the ratings in the test set (test_ds).\n",
    "# Finally, save the corresponding MAE and RMSE of your implementation \n",
    "# into the following defined corresponding variable. \n",
    "\n",
    "MAE_solution3 = 0 # 0 is an intial value, you need to update this with the actual perofrmance of your implementation.\n",
    "RMSE_solution3 = 0 # 0 is an intial value, you need to update this with the actual perofrmance of your implementation.\n",
    "\n",
    "ratings_binary = np.zeros((n_users, n_items))\n",
    "ratings = np.zeros((n_users, n_items))\n",
    "\n",
    "for row in train_df.itertuples(): \n",
    "    ratings_binary[row[1]-1,row[2]-1] = 1 # Checking whether the item has been rated \n",
    "    ratings[row[1]-1,row[2]-1] = row[3]\n",
    "\n",
    "user_similarity = np.zeros((n_users, n_users))\n",
    "\n",
    "ep = 1e-9\n",
    "\n",
    "for i in range(n_users):\n",
    "    for j in range(n_users):\n",
    "\n",
    "        if j > i: # To avoid redundant comparisons \n",
    "            i_common_rating = []\n",
    "            j_common_rating = []\n",
    "            centre_i = []\n",
    "            centre_j = []\n",
    "            count_corrated_items = 0 # Initializing the corrated items as 0 initially\n",
    "            \n",
    "            for item in range(n_items): \n",
    "                if ratings_binary[i,item]: # If user 1 and user 2 have rated the item\n",
    "                    if ratings_binary[j, item]:\n",
    "                        i_common_rating.append(ratings[i, item])\n",
    "                        j_common_rating.append(ratings[j, item])\n",
    "                        count_corrated_items += 1\n",
    "                        \n",
    "            if count_corrated_items == 0: # If there are no commonly rated items between the two users\n",
    "                similarity = 0\n",
    "                continue\n",
    "\n",
    "            user_i_rating = np.mean(i_common_rating)\n",
    "            user_j_rating = np.mean(j_common_rating)\n",
    "            \n",
    "            for r in i_common_rating:\n",
    "                centre_i.append(r - user_i_rating)\n",
    "            \n",
    "            for r in j_common_rating:    \n",
    "                centre_j.append(r - user_j_rating)\n",
    "            \n",
    "            similarity = np.dot(centre_i, centre_j) / (ep + np.sqrt(np.dot(centre_i, centre_i)) * np.sqrt(np.dot(centre_j, centre_j)))\n",
    "            user_similarity[i, j] = similarity\n",
    "            user_similarity[j, i] = similarity\n",
    "\n",
    "# Predicting ratings through user similarity \n",
    "data_pre = pd.DataFrame(index=range(n_users), columns=range(n_items))\n",
    "ratings_df = pd.DataFrame(ratings)\n",
    "\n",
    "k_neighbour = [9,15,25,40, 45, 50]\n",
    "\n",
    "for k in k_neighbour:\n",
    "    for i in range(n_users):  # For each user\n",
    "        for j in range(n_items):  # For each item\n",
    "\n",
    "            if test_ds[i, j] == 0:\n",
    "                continue  # Skip if not in test set\n",
    "\n",
    "            if ratings_df.iloc[i, j] > 0:\n",
    "                data_pre.iloc[i, j] = ratings_df.iloc[i, j]  # Use existing rating if available\n",
    "                continue\n",
    "\n",
    "            # Find users who rated item j\n",
    "            mask_rated_users = ratings[:, j] > 0\n",
    "            if np.sum(mask_rated_users) == 0:\n",
    "                data_pre.iloc[i, j] = 3.0  # Fallback to global average\n",
    "                continue\n",
    "\n",
    "            sim_scores = user_similarity[i, mask_rated_users]  # Similarity between user i and others\n",
    "            rated_scores = ratings[mask_rated_users, j]  # Ratings those users gave to item j\n",
    "\n",
    "            if len(sim_scores) > k:\n",
    "                top_k_idx = np.argsort(sim_scores)[-k:]\n",
    "                sim_scores = sim_scores[top_k_idx]\n",
    "                rated_scores = rated_scores[top_k_idx]\n",
    "\n",
    "            if np.sum(np.abs(sim_scores)) == 0:\n",
    "                user_rated = ratings[i, :] > 0\n",
    "                if np.sum(user_rated) > 0:\n",
    "                    data_pre.iloc[i, j] = np.mean(ratings[i, user_rated])\n",
    "                else:\n",
    "                    data_pre.iloc[i, j] = 3.0\n",
    "            else:\n",
    "                data_pre.iloc[i, j] = np.dot(sim_scores, rated_scores) / (np.sum(np.abs(sim_scores)) + ep)\n",
    "\n",
    "    user_knn_pred = data_pre.fillna(0).values\n",
    "    MAE, RMSE = evaluate(test_ds, user_knn_pred)\n",
    "    if k == 25:\n",
    "        MAE_solution3, RMSE_solution3 = MAE, RMSE\n",
    "    print(f\"k: {k}, MAE: {MAE}, RMSE: {RMSE}\")"
   ]
  },
  {
   "cell_type": "code",
   "execution_count": 18,
   "id": "4f517513-1805-4a3e-ad30-09fdb19bdeab",
   "metadata": {},
   "outputs": [
    {
     "name": "stdout",
     "output_type": "stream",
     "text": [
      "===================== The MAE and RMSE of Your Implementation =====================\n",
      "MAE: 0.7887518967353208, RMSE: 0.9972146427260026\n"
     ]
    }
   ],
   "source": [
    "# Please don't change this cell\n",
    "\n",
    "print(\"===================== The MAE and RMSE of Your Implementation =====================\")\n",
    "print(\"MAE: {}, RMSE: {}\" .format(MAE_solution3, RMSE_solution3))"
   ]
  },
  {
   "cell_type": "markdown",
   "id": "06dfa165-49ce-4bb2-96a8-a86ab58705d4",
   "metadata": {},
   "source": [
    "# Your Solution for Method 4"
   ]
  },
  {
   "cell_type": "code",
   "execution_count": 20,
   "id": "413fb7bf-0efa-4fe0-8f5c-874db8f531fb",
   "metadata": {
    "scrolled": true
   },
   "outputs": [
    {
     "name": "stdout",
     "output_type": "stream",
     "text": [
      "k: 9, MAE: 0.8914534122787361, RMSE: 1.111579160155249\n",
      "k: 15, MAE: 0.8676276290568466, RMSE: 1.08242883419491\n",
      "k: 25, MAE: 0.8742394831857401, RMSE: 1.102150846158254\n",
      "k: 40, MAE: 0.8998502956457414, RMSE: 1.1430605815885084\n",
      "k: 45, MAE: 0.9113111695309961, RMSE: 1.1593529549443056\n",
      "k: 50, MAE: 0.9213032763873081, RMSE: 1.1731812025696395\n"
     ]
    }
   ],
   "source": [
    "# Write your code here for Method 4\n",
    "# You are required to implement the required solution 1 here. \n",
    "# Then, evaluate your implementation by predicting the ratings in the test set (test_ds).\n",
    "# Finally, save the corresponding MAE and RMSE of your implementation \n",
    "# into the following defined corresponding variable. \n",
    "\n",
    "MAE_solution4 = 0 # 0 is an intial value, you need to update this with the actual perofrmance of your implementation.\n",
    "RMSE_solution4 = 0 # 0 is an intial value, you need to update this with the actual perofrmance of your implementation\n",
    "\n",
    "# Create user-item rating matrix \n",
    "ratings = np.zeros((n_users, n_items))\n",
    "ratings_binary = np.zeros((n_users, n_items))\n",
    "\n",
    "for row in train_df.itertuples():\n",
    "    ratings[row[1]-1, row[2]-1] = row[3]\n",
    "    ratings_binary[row[1]-1, row[2]-1] = 1\n",
    "\n",
    "ratings_df = pd.DataFrame(ratings)\n",
    "item_similarity = np.zeros((n_items, n_items))\n",
    "\n",
    "for i in range(n_items): \n",
    "    for j in range(n_items):\n",
    "\n",
    "        if j > i: # To avoid redundant comparisons \n",
    "            i_common_rating = []\n",
    "            j_common_rating = []\n",
    "            centre_i = []\n",
    "            centre_j = []\n",
    "            count_corrated_items = 0 # Initializing the corrated items as 0 initially\n",
    "            \n",
    "            for user in range(n_users): \n",
    "                if ratings_binary[user,i]: # If user 1 and user 2 have rated the item\n",
    "                    if ratings_binary[user,j]:\n",
    "                        i_common_rating.append(ratings[user, i])\n",
    "                        j_common_rating.append(ratings[user, j])\n",
    "                        count_corrated_items += 1\n",
    "                        \n",
    "            if count_corrated_items == 0: # If there are no commonly rated items between the two users\n",
    "                similarity = 0\n",
    "                continue\n",
    "\n",
    "            item_i_rating = np.mean(i_common_rating)\n",
    "            item_j_rating = np.mean(j_common_rating)\n",
    "            \n",
    "            for r in i_common_rating:\n",
    "                centre_i.append(r - item_i_rating)\n",
    "            \n",
    "            for r in j_common_rating:    \n",
    "                centre_j.append(r - item_j_rating)\n",
    "            \n",
    "            similarity = np.dot(centre_i, centre_j) / (ep + np.sqrt(np.dot(centre_i, centre_i)) * np.sqrt(np.dot(centre_j, centre_j)))\n",
    "            item_similarity[i, j] = similarity\n",
    "            item_similarity[j, i] = similarity\n",
    "\n",
    "\n",
    "\n",
    "data_pre = pd.DataFrame(index=range(n_users), columns=range(n_items))\n",
    "ep = 1e-9\n",
    "\n",
    "for k in k_neighbour:\n",
    "    for i in range(n_users):\n",
    "        for j in range(n_items):\n",
    "\n",
    "            if test_ds[i, j] == 0:\n",
    "                continue  # If the set is not present in the test set, the iteration for the current item is skipped\n",
    "\n",
    "            if ratings_df.iloc[i, j] > 0:\n",
    "                data_pre.iloc[i, j] = ratings_df.iloc[i, j]  # if the item has already been rated, the data is appended\n",
    "                continue\n",
    "\n",
    "            # Find similar items that user i has rated\n",
    "            mask_rated_items = ratings[i, :] > 0\n",
    "            if np.sum(mask_rated_items) == 0:\n",
    "                data_pre.iloc[i, j] = 3.0 \n",
    "                continue\n",
    "\n",
    "            sim_scores = item_similarity[j, mask_rated_items]\n",
    "            rated_scores = ratings_df.iloc[i, mask_rated_items].values\n",
    "\n",
    "            if len(sim_scores) > k:\n",
    "                top_k_idx = np.argsort(sim_scores)[-k:]\n",
    "                sim_scores = sim_scores[top_k_idx]\n",
    "                rated_scores = rated_scores[top_k_idx]\n",
    "\n",
    "            if np.sum(np.abs(sim_scores)) == 0:\n",
    "                data_pre.iloc[i, j] = np.mean(rated_scores)\n",
    "            else:\n",
    "                data_pre.iloc[i, j] = np.dot(sim_scores, rated_scores) / (np.sum(np.abs(sim_scores)) + ep)\n",
    "\n",
    "    item_knn_pred = data_pre.fillna(0).values\n",
    "    MAE, RMSE = evaluate(test_ds, item_knn_pred)\n",
    "    print(f\"k: {k}, MAE: {MAE}, RMSE: {RMSE}\")\n",
    "    if k == 15:\n",
    "        MAE_solution4, RMSE_solution4 = MAE, RMSE\n"
   ]
  },
  {
   "cell_type": "code",
   "execution_count": 21,
   "id": "47c9516a-2c5b-4783-a461-c35514975fdb",
   "metadata": {},
   "outputs": [
    {
     "name": "stdout",
     "output_type": "stream",
     "text": [
      "===================== The MAE and RMSE of Your Implementation =====================\n",
      "MAE: 0.8676276290568466, RMSE: 1.08242883419491\n"
     ]
    }
   ],
   "source": [
    "# Please don't change this cell\n",
    "\n",
    "print(\"===================== The MAE and RMSE of Your Implementation =====================\")\n",
    "print(\"MAE: {}, RMSE: {}\" .format(MAE_solution4, RMSE_solution4))"
   ]
  },
  {
   "cell_type": "markdown",
   "id": "f82ecd8b-5248-4154-be35-139e1eb9ce1c",
   "metadata": {},
   "source": [
    "# Your Solution for Method 5"
   ]
  },
  {
   "cell_type": "code",
   "execution_count": 23,
   "id": "8b13f73f-3004-47e1-976e-6895c8e2d1a1",
   "metadata": {},
   "outputs": [
    {
     "name": "stdout",
     "output_type": "stream",
     "text": [
      "Lambda: 0.10, MAE: 0.8953, RMSE: 1.1325\n",
      "Lambda: 0.20, MAE: 0.8742, RMSE: 1.0990\n",
      "Lambda: 0.30, MAE: 0.8573, RMSE: 1.0734\n",
      "Lambda: 0.40, MAE: 0.8450, RMSE: 1.0562\n",
      "Lambda: 0.50, MAE: 0.8367, RMSE: 1.0480\n",
      "Lambda: 0.60, MAE: 0.8326, RMSE: 1.0488\n",
      "Lambda: 0.65, MAE: 0.8324, RMSE: 1.0526\n",
      "Lambda: 0.66, MAE: 0.8326, RMSE: 1.0536\n",
      "Lambda: 0.67, MAE: 0.8327, RMSE: 1.0547\n",
      "Lambda: 0.68, MAE: 0.8330, RMSE: 1.0559\n",
      "Lambda: 0.70, MAE: 0.8336, RMSE: 1.0586\n",
      "Lambda: 0.75, MAE: 0.8362, RMSE: 1.0669\n",
      "Lambda: 0.80, MAE: 0.8403, RMSE: 1.0773\n",
      "Lambda: 0.85, MAE: 0.8455, RMSE: 1.0898\n",
      "Lambda: 0.90, MAE: 0.8523, RMSE: 1.1043\n"
     ]
    }
   ],
   "source": [
    "# Write your code here for Method 5\n",
    "# You are required to implement the required solution 1 here. \n",
    "# Then, evaluate your implementation by predicting the ratings in the test set (test_ds).\n",
    "# Finally, save the corresponding MAE and RMSE of your implementation \n",
    "# into the following defined corresponding variable. \n",
    "\n",
    "MAE_solution5 = 0 # 0 is an intial value, you need to update this with the actual perofrmance of your implementation.\n",
    "RMSE_solution5 = 0 # 0 is an intial value, you need to update this with the actual perofrmance of your implementation.\n",
    "\n",
    "coefficient_options = [0.1,0.2,0.3,0.4,0.5,0.6,0.65,0.66,0.67,0.68,0.7,0.75,0.8,0.85,0.9] # A list of lambda values 0-1\n",
    "\n",
    "for coef in coefficient_options: # Iterating to find the best possible value of lambda with the best possible accuracy (low RMSE and MAE values)\n",
    "    combined_prediction = coef*user_knn_pred + (1 - coef)*item_knn_pred\n",
    "    MAE, RMSE = evaluate(test_ds, combined_prediction)\n",
    "    print(f\"Lambda: {coef:.2f}, MAE: {MAE:.4f}, RMSE: {RMSE:.4f}\")\n",
    "\n",
    "# Choosing the best value of coefficient (lambda)\n",
    "\n",
    "coef = 0.5\n",
    "combined_prediction = coef*user_knn_pred + (1 - coef)*item_knn_pred\n",
    "MAE_solution5, RMSE_solution5 = evaluate(test_ds, combined_prediction)\n",
    "\n"
   ]
  },
  {
   "cell_type": "code",
   "execution_count": 24,
   "id": "083bdb74-5627-417a-91ea-388f9353fc8b",
   "metadata": {},
   "outputs": [
    {
     "name": "stdout",
     "output_type": "stream",
     "text": [
      "===================== The MAE and RMSE of Your Implementation =====================\n",
      "MAE: 0.8367085339414227, RMSE: 1.0479629816808924\n"
     ]
    }
   ],
   "source": [
    "# Please don't change this cell\n",
    "\n",
    "print(\"===================== The MAE and RMSE of Your Implementation =====================\")\n",
    "print(\"MAE: {}, RMSE: {}\" .format(MAE_solution5, RMSE_solution5))"
   ]
  },
  {
   "cell_type": "code",
   "execution_count": 25,
   "id": "497d1d2a-0a08-46da-a809-c82af42dd36c",
   "metadata": {},
   "outputs": [
    {
     "name": "stdout",
     "output_type": "stream",
     "text": [
      "MAE1: 0.8258905090105331, RMSE1: 1.031143070595138\n",
      "MAE2: 0.7961203950990416, RMSE2: 1.0013142101585724\n",
      "MAE3: 0.7887518967353208, RMSE3: 0.9972146427260026\n",
      "MAE4: 0.8676276290568466, RMSE4: 1.08242883419491\n",
      "MAE5: 0.8367085339414227, RMSE5: 1.0479629816808924\n"
     ]
    }
   ],
   "source": [
    "print(\"MAE1: {}, RMSE1: {}\" .format(MAE_solution1, RMSE_solution1))\n",
    "print(\"MAE2: {}, RMSE2: {}\" .format(MAE_solution2, RMSE_solution2))\n",
    "print(\"MAE3: {}, RMSE3: {}\" .format(MAE_solution3, RMSE_solution3))\n",
    "print(\"MAE4: {}, RMSE4: {}\" .format(MAE_solution4, RMSE_solution4))\n",
    "print(\"MAE5: {}, RMSE5: {}\" .format(MAE_solution5, RMSE_solution5))"
   ]
  },
  {
   "cell_type": "code",
   "execution_count": 26,
   "id": "15f0160e-d083-4132-b6f8-667bcdb8b868",
   "metadata": {},
   "outputs": [
    {
     "data": {
      "image/png": "[encoded data removed]",
      "text/plain": [
       "<Figure size 1000x600 with 1 Axes>"
      ]
     },
     "metadata": {},
     "output_type": "display_data"
    }
   ],
   "source": [
    "# Method 3 Evaluation \n",
    "import matplotlib.pyplot as plt\n",
    "\n",
    "# Corresponding k for MAE/RMSE\n",
    "mean_sqaure_errors_3 = [0.8119, 0.7970, 0.7887, 0.8319, 0.8518, 0.8367]\n",
    "root_mean_square_errors_3 = [1.0244, 1.0053, 0.9972, 1.0761, 1.1080, 1.047]\n",
    "\n",
    "plt.figure(figsize=(10, 6))\n",
    "plt.plot(k_neighbour, mean_sqaure_errors_3, marker='o', label='MAE')\n",
    "plt.plot(k_neighbour, root_mean_square_errors_3, marker='s', label='RMSE')\n",
    "plt.xlabel('k Neighbours')\n",
    "plt.ylabel('MSE And RMSE')\n",
    "plt.title('Method 3 (User-based KNN)')\n",
    "plt.grid(True)\n",
    "plt.show()\n"
   ]
  },
  {
   "cell_type": "code",
   "execution_count": 27,
   "id": "8eae87bf-2525-425c-8581-1b5664bf69f9",
   "metadata": {},
   "outputs": [
    {
     "data": {
      "image/png": "[encoded data removed]",
      "text/plain": [
       "<Figure size 1000x600 with 1 Axes>"
      ]
     },
     "metadata": {},
     "output_type": "display_data"
    }
   ],
   "source": [
    "# Method 4 Evaluation \n",
    "import matplotlib.pyplot as plt\n",
    "\n",
    "# Corresponding k for MAE/RMSE \n",
    "mean_sqaure_errors_4 = [0.8914, 0.8676, 0.8742, 0.8998, 0.9113, 0.9213]\n",
    "root_mean_square_errors_4 = [1.111, 1.082, 1.1021, 1.1430, 1.1593, 1.1731]\n",
    "\n",
    "plt.figure(figsize=(10, 6))\n",
    "plt.plot(k_neighbour, mean_sqaure_errors_4, marker='o', label='MAE')\n",
    "plt.plot(k_neighbour, root_mean_square_errors_4, marker='s', label='RMSE')\n",
    "plt.xlabel('k Neighbours')\n",
    "plt.ylabel('MSE And RMSE')\n",
    "plt.title('Method 4 (Item-based KNN)')\n",
    "plt.grid(True)\n",
    "plt.show()"
   ]
  },
  {
   "cell_type": "code",
   "execution_count": 28,
   "id": "99fb51f7-32b7-47b5-8706-5fd7a50bc606",
   "metadata": {},
   "outputs": [
    {
     "data": {
      "image/png": "[encoded data removed]",
      "text/plain": [
       "<Figure size 1000x600 with 1 Axes>"
      ]
     },
     "metadata": {},
     "output_type": "display_data"
    }
   ],
   "source": [
    "methods = ['M1', 'M2', 'M3', 'M4', 'M5']\n",
    "MAE_Values = [MAE_solution1, MAE_solution2, MAE_solution3, MAE_solution4, MAE_solution5]\n",
    "RMSE_Values = [RMSE_solution1, RMSE_solution2, RMSE_solution3, RMSE_solution4, RMSE_solution5]\n",
    "w = 0.35\n",
    "method = np.arange(len(methods))\n",
    "plt.figure(figsize=(10, 6))\n",
    "plt.bar(np.arange(len(methods)) - 0.35/2, MAE_Values, w, label='MAE')\n",
    "plt.bar(np.arange(len(methods)) + 0.35/2, RMSE_Values, w, label='RMSE')\n",
    "plt.ylabel('MSE And RMSE')\n",
    "plt.xlabel('Methods (1-5)')\n",
    "plt.xticks(method, methods)\n",
    "plt.title('Performance Evaluation')\n",
    "plt.ylim(0.78, 1.1)\n",
    "plt.show()\n"
   ]
  },
  {
   "cell_type": "code",
   "execution_count": null,
   "id": "97dcdb7a-640d-4e7e-ac25-b31bc330a920",
   "metadata": {},
   "outputs": [],
   "source": []
  }
 ],
 "metadata": {
  "kernelspec": {
   "display_name": "Python [conda env:base] *",
   "language": "python",
   "name": "conda-base-py"
  },
  "language_info": {
   "codemirror_mode": {
    "name": "ipython",
    "version": 3
   },
   "file_extension": ".py",
   "mimetype": "text/x-python",
   "name": "python",
   "nbconvert_exporter": "python",
   "pygments_lexer": "ipython3",
   "version": "3.12.7"
  }
 },
 "nbformat": 4,
 "nbformat_minor": 5
}
